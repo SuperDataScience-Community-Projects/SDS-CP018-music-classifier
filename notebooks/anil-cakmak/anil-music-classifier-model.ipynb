{
  "nbformat": 4,
  "nbformat_minor": 0,
  "metadata": {
    "colab": {
      "provenance": [],
      "gpuType": "T4"
    },
    "kernelspec": {
      "name": "python3",
      "display_name": "Python 3"
    },
    "language_info": {
      "name": "python"
    },
    "accelerator": "GPU"
  },
  "cells": [
    {
      "cell_type": "code",
      "execution_count": null,
      "metadata": {
        "id": "Gd9bUz7S6Tmm"
      },
      "outputs": [],
      "source": [
        "!pip install -q datasets[audio]"
      ]
    },
    {
      "cell_type": "code",
      "source": [
        "from datasets import load_dataset\n",
        "import torch\n",
        "import torchaudio\n",
        "import torch.nn as nn\n",
        "from torchaudio.transforms import MelSpectrogram, AmplitudeToDB\n",
        "from torchvision.transforms import Resize, Normalize\n",
        "from torch.utils.data import Dataset, DataLoader\n",
        "from torchvision import transforms, models"
      ],
      "metadata": {
        "id": "ROYv2qMB81nb"
      },
      "execution_count": 2,
      "outputs": []
    },
    {
      "cell_type": "code",
      "source": [
        "gtzan = load_dataset(\"marsyas/gtzan\", \"all\")"
      ],
      "metadata": {
        "id": "3qrULLT08sRZ"
      },
      "execution_count": null,
      "outputs": []
    },
    {
      "cell_type": "code",
      "source": [
        "gtzan = gtzan[\"train\"].train_test_split(seed=42, shuffle=True, test_size=0.1)\n",
        "train = gtzan[\"train\"]\n",
        "test = gtzan[\"test\"]"
      ],
      "metadata": {
        "id": "YyrITmg88xvG"
      },
      "execution_count": 4,
      "outputs": []
    },
    {
      "cell_type": "code",
      "source": [
        "mel_spectrogram = MelSpectrogram(sample_rate=22050, n_fft=2048, hop_length=512, n_mels=128)\n",
        "to_db = AmplitudeToDB()\n",
        "\n",
        "def audio_to_mel(audio):\n",
        "    mel = mel_spectrogram(audio)\n",
        "    mel_db = to_db(mel)\n",
        "    return mel_db"
      ],
      "metadata": {
        "id": "wV_yfkT2-Ao5"
      },
      "execution_count": 5,
      "outputs": []
    },
    {
      "cell_type": "code",
      "source": [
        "resize = Resize((224, 224))\n",
        "\n",
        "def preprocess_spectrogram(spectrogram):\n",
        "    spectrogram = spectrogram.unsqueeze(0)\n",
        "    spectrogram = spectrogram.repeat(3, 1, 1)\n",
        "    spectrogram_resized = resize(spectrogram)\n",
        "    return spectrogram_resized"
      ],
      "metadata": {
        "id": "ZvGXn91N-PEf"
      },
      "execution_count": 6,
      "outputs": []
    },
    {
      "cell_type": "code",
      "source": [
        "class GTZANDataset(Dataset):\n",
        "    def __init__(self, dataset, transform=None):\n",
        "        self.dataset = dataset\n",
        "        self.transform = transform\n",
        "\n",
        "    def __getitem__(self, idx):\n",
        "        audio, label = self.dataset[idx]['audio']['array'], self.dataset[idx]['genre']\n",
        "        spectrogram = audio_to_mel(torch.tensor(audio, dtype=torch.float32))\n",
        "\n",
        "        if self.transform:\n",
        "            spectrogram = self.transform(spectrogram)\n",
        "        return spectrogram, label\n",
        "\n",
        "    def __len__(self):\n",
        "        return len(self.dataset)\n",
        "\n",
        "train_dataset = GTZANDataset(train, transform=preprocess_spectrogram)\n",
        "train_loader = DataLoader(train_dataset, batch_size=32, shuffle=True)\n",
        "\n",
        "test_dataset = GTZANDataset(test, transform=preprocess_spectrogram)\n",
        "test_loader = DataLoader(test_dataset, batch_size=32, shuffle=True)"
      ],
      "metadata": {
        "id": "ar8Obd0V-mun"
      },
      "execution_count": 7,
      "outputs": []
    },
    {
      "cell_type": "code",
      "source": [
        "model = models.resnet18(pretrained=True)\n",
        "\n",
        "for param in model.parameters():\n",
        "  param.requires_grad = False\n",
        "\n",
        "model.fc = nn.Linear(model.fc.in_features, 10)\n",
        "\n",
        "device = torch.device('cuda' if torch.cuda.is_available() else 'cpu')\n",
        "model.to(device)"
      ],
      "metadata": {
        "id": "JCVtMFT3EDXW"
      },
      "execution_count": null,
      "outputs": []
    },
    {
      "cell_type": "code",
      "source": [
        "criterion = nn.CrossEntropyLoss()\n",
        "optimizer = torch.optim.Adam(model.fc.parameters(), lr=0.001)"
      ],
      "metadata": {
        "id": "NE6HY_K4EtlS"
      },
      "execution_count": 9,
      "outputs": []
    },
    {
      "cell_type": "code",
      "source": [
        "for epoch in range(10):\n",
        "    model.train()\n",
        "    running_loss = 0.0\n",
        "    correct = 0.0\n",
        "    total = 0.0\n",
        "\n",
        "    for inputs, labels in train_loader:\n",
        "        inputs = inputs.to(\"cuda\")\n",
        "        labels = labels.to(\"cuda\")\n",
        "\n",
        "        optimizer.zero_grad()\n",
        "        outputs = model(inputs)\n",
        "        loss = criterion(outputs, labels)\n",
        "        loss.backward()\n",
        "        optimizer.step()\n",
        "        running_loss += loss.item()\n",
        "\n",
        "        _, predicted = torch.max(outputs, 1)\n",
        "        correct += (predicted == labels).sum().item()\n",
        "        total += labels.size(0)\n",
        "\n",
        "    train_loss = running_loss / len(train_loader)\n",
        "    train_accuracy = 100 * correct / total\n",
        "\n",
        "    model.eval()\n",
        "    running_loss = 0.0\n",
        "    correct = 0\n",
        "    total = 0\n",
        "    with torch.no_grad():\n",
        "        for inputs, labels in test_loader:\n",
        "            inputs = inputs.to(\"cuda\")\n",
        "            labels = labels.to(\"cuda\")\n",
        "\n",
        "            outputs = model(inputs)\n",
        "            loss = criterion(outputs, labels)\n",
        "            running_loss += loss.item()\n",
        "\n",
        "            _, predicted = torch.max(outputs, 1)\n",
        "            correct += (predicted == labels).sum().item()\n",
        "            total += labels.size(0)\n",
        "\n",
        "    test_loss = running_loss / len(test_loader)\n",
        "    test_accuracy = 100 * correct / total\n",
        "\n",
        "    print(f\"Epoch {epoch+1}, Train Loss: {train_loss:.3f}, Train Accuracy: {train_accuracy:.2f}%, \"\n",
        "          f\"Test Loss: {test_loss:.3f}, Test Accuracy: {test_accuracy:.2f}%\")"
      ],
      "metadata": {
        "id": "AHFcrm9PE0YQ",
        "colab": {
          "base_uri": "https://localhost:8080/"
        },
        "outputId": "0a493261-2648-4a81-ed25-3d74467a5c9b"
      },
      "execution_count": 10,
      "outputs": [
        {
          "output_type": "stream",
          "name": "stdout",
          "text": [
            "Epoch 1, Train Loss: 2.182, Train Accuracy: 21.02%, Test Loss: 1.946, Test Accuracy: 29.00%\n",
            "Epoch 2, Train Loss: 1.777, Train Accuracy: 40.71%, Test Loss: 1.654, Test Accuracy: 51.00%\n",
            "Epoch 3, Train Loss: 1.495, Train Accuracy: 55.62%, Test Loss: 1.486, Test Accuracy: 57.00%\n",
            "Epoch 4, Train Loss: 1.341, Train Accuracy: 61.96%, Test Loss: 1.310, Test Accuracy: 61.00%\n",
            "Epoch 5, Train Loss: 1.243, Train Accuracy: 63.52%, Test Loss: 1.221, Test Accuracy: 59.00%\n",
            "Epoch 6, Train Loss: 1.146, Train Accuracy: 66.96%, Test Loss: 1.182, Test Accuracy: 56.00%\n",
            "Epoch 7, Train Loss: 1.088, Train Accuracy: 70.75%, Test Loss: 1.204, Test Accuracy: 62.00%\n",
            "Epoch 8, Train Loss: 1.034, Train Accuracy: 70.08%, Test Loss: 1.078, Test Accuracy: 61.00%\n",
            "Epoch 9, Train Loss: 1.004, Train Accuracy: 70.63%, Test Loss: 1.073, Test Accuracy: 61.00%\n",
            "Epoch 10, Train Loss: 1.012, Train Accuracy: 68.74%, Test Loss: 1.198, Test Accuracy: 61.00%\n"
          ]
        }
      ]
    },
    {
      "cell_type": "code",
      "source": [
        "for param in model.layer4.parameters():\n",
        "  param.requires_grad = True\n",
        "\n",
        "for param in model.fc.parameters():\n",
        "  param.requires_grad = True"
      ],
      "metadata": {
        "id": "-71KuPsLQ1dS"
      },
      "execution_count": 11,
      "outputs": []
    },
    {
      "cell_type": "code",
      "source": [
        "optimizer = torch.optim.Adam([\n",
        "    {\"params\":model.layer4.parameters(), \"lr\":1e-4},\n",
        "    {\"params\":model.fc.parameters(), \"lr\":1e-3}])"
      ],
      "metadata": {
        "id": "ldJ9svEYQ3AF"
      },
      "execution_count": 12,
      "outputs": []
    },
    {
      "cell_type": "code",
      "source": [
        "for epoch in range(10):\n",
        "    model.train()\n",
        "    running_loss = 0.0\n",
        "    correct = 0.0\n",
        "    total = 0.0\n",
        "\n",
        "    for inputs, labels in train_loader:\n",
        "        inputs = inputs.to(\"cuda\")\n",
        "        labels = labels.to(\"cuda\")\n",
        "\n",
        "        optimizer.zero_grad()\n",
        "        outputs = model(inputs)\n",
        "        loss = criterion(outputs, labels)\n",
        "        loss.backward()\n",
        "        optimizer.step()\n",
        "        running_loss += loss.item()\n",
        "\n",
        "        _, predicted = torch.max(outputs, 1)\n",
        "        correct += (predicted == labels).sum().item()\n",
        "        total += labels.size(0)\n",
        "\n",
        "    train_loss = running_loss / len(train_loader)\n",
        "    train_accuracy = 100 * correct / total\n",
        "\n",
        "    model.eval()\n",
        "    running_loss = 0.0\n",
        "    correct = 0\n",
        "    total = 0\n",
        "    with torch.no_grad():\n",
        "        for inputs, labels in test_loader:\n",
        "            inputs = inputs.to(\"cuda\")\n",
        "            labels = labels.to(\"cuda\")\n",
        "\n",
        "            outputs = model(inputs)\n",
        "            loss = criterion(outputs, labels)\n",
        "            running_loss += loss.item()\n",
        "\n",
        "            _, predicted = torch.max(outputs, 1)\n",
        "            correct += (predicted == labels).sum().item()\n",
        "            total += labels.size(0)\n",
        "\n",
        "    test_loss = running_loss / len(test_loader)\n",
        "    test_accuracy = 100 * correct / total\n",
        "\n",
        "    print(f\"Epoch {epoch+1}, Train Loss: {train_loss:.3f}, Train Accuracy: {train_accuracy:.2f}%, \"\n",
        "          f\"Test Loss: {test_loss:.3f}, Test Accuracy: {test_accuracy:.2f}%\")"
      ],
      "metadata": {
        "id": "tHpCRlqcQ73d",
        "colab": {
          "base_uri": "https://localhost:8080/"
        },
        "outputId": "3af9c441-a9d2-4f4d-f75a-3bd4cc2df40d"
      },
      "execution_count": 13,
      "outputs": [
        {
          "output_type": "stream",
          "name": "stdout",
          "text": [
            "Epoch 1, Train Loss: 0.872, Train Accuracy: 73.64%, Test Loss: 0.722, Test Accuracy: 70.00%\n",
            "Epoch 2, Train Loss: 0.254, Train Accuracy: 94.99%, Test Loss: 0.647, Test Accuracy: 75.00%\n",
            "Epoch 3, Train Loss: 0.093, Train Accuracy: 99.33%, Test Loss: 0.630, Test Accuracy: 76.00%\n",
            "Epoch 4, Train Loss: 0.059, Train Accuracy: 99.33%, Test Loss: 0.655, Test Accuracy: 75.00%\n",
            "Epoch 5, Train Loss: 0.038, Train Accuracy: 99.89%, Test Loss: 0.764, Test Accuracy: 75.00%\n",
            "Epoch 6, Train Loss: 0.054, Train Accuracy: 99.78%, Test Loss: 0.708, Test Accuracy: 77.00%\n",
            "Epoch 7, Train Loss: 0.051, Train Accuracy: 99.56%, Test Loss: 0.772, Test Accuracy: 71.00%\n",
            "Epoch 8, Train Loss: 0.042, Train Accuracy: 99.33%, Test Loss: 0.776, Test Accuracy: 75.00%\n",
            "Epoch 9, Train Loss: 0.055, Train Accuracy: 99.67%, Test Loss: 0.749, Test Accuracy: 80.00%\n",
            "Epoch 10, Train Loss: 0.036, Train Accuracy: 99.33%, Test Loss: 0.645, Test Accuracy: 77.00%\n"
          ]
        }
      ]
    },
    {
      "cell_type": "code",
      "source": [
        "torch.save(model.state_dict(), '/content/model.pth')"
      ],
      "metadata": {
        "id": "XR_QeSovV_o-"
      },
      "execution_count": 14,
      "outputs": []
    },
    {
      "cell_type": "code",
      "source": [
        "from google.colab import files\n",
        "files.download('/content/model.pth')"
      ],
      "metadata": {
        "id": "zswoVD8TWRcC",
        "colab": {
          "base_uri": "https://localhost:8080/",
          "height": 17
        },
        "outputId": "ebb8c817-0781-4bb7-9847-fcf13cb65b8f"
      },
      "execution_count": 15,
      "outputs": [
        {
          "output_type": "display_data",
          "data": {
            "text/plain": [
              "<IPython.core.display.Javascript object>"
            ],
            "application/javascript": [
              "\n",
              "    async function download(id, filename, size) {\n",
              "      if (!google.colab.kernel.accessAllowed) {\n",
              "        return;\n",
              "      }\n",
              "      const div = document.createElement('div');\n",
              "      const label = document.createElement('label');\n",
              "      label.textContent = `Downloading \"${filename}\": `;\n",
              "      div.appendChild(label);\n",
              "      const progress = document.createElement('progress');\n",
              "      progress.max = size;\n",
              "      div.appendChild(progress);\n",
              "      document.body.appendChild(div);\n",
              "\n",
              "      const buffers = [];\n",
              "      let downloaded = 0;\n",
              "\n",
              "      const channel = await google.colab.kernel.comms.open(id);\n",
              "      // Send a message to notify the kernel that we're ready.\n",
              "      channel.send({})\n",
              "\n",
              "      for await (const message of channel.messages) {\n",
              "        // Send a message to notify the kernel that we're ready.\n",
              "        channel.send({})\n",
              "        if (message.buffers) {\n",
              "          for (const buffer of message.buffers) {\n",
              "            buffers.push(buffer);\n",
              "            downloaded += buffer.byteLength;\n",
              "            progress.value = downloaded;\n",
              "          }\n",
              "        }\n",
              "      }\n",
              "      const blob = new Blob(buffers, {type: 'application/binary'});\n",
              "      const a = document.createElement('a');\n",
              "      a.href = window.URL.createObjectURL(blob);\n",
              "      a.download = filename;\n",
              "      div.appendChild(a);\n",
              "      a.click();\n",
              "      div.remove();\n",
              "    }\n",
              "  "
            ]
          },
          "metadata": {}
        },
        {
          "output_type": "display_data",
          "data": {
            "text/plain": [
              "<IPython.core.display.Javascript object>"
            ],
            "application/javascript": [
              "download(\"download_34984669-510c-45af-83e1-7f0658a0e69d\", \"model.pth\", 44798658)"
            ]
          },
          "metadata": {}
        }
      ]
    }
  ]
}